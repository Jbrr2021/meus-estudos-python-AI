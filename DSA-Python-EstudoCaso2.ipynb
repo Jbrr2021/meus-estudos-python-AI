{
 "cells": [
  {
   "cell_type": "markdown",
   "id": "36bfef12-5af7-4d3c-85c4-ac228f3dcf12",
   "metadata": {},
   "source": [
    "<!-- Trabalho Desenvolvido na Data Science Academy - www.datascienceacademy.com.br -->\n",
    "# <font color='blue'>Data Science Academy</font>\n",
    "# <font color='blue'>Fundamentos de Linguagem Python - Do Básico a Aplicações de IA</font>\n",
    "# <font color='blue'>Estudo de Caso 2 - Fundamentos de Linguagem Python Para Construção de Game</font>"
   ]
  },
  {
   "cell_type": "markdown",
   "id": "aee0b1c1-41db-45cb-a54f-ef8ecc340b37",
   "metadata": {},
   "source": [
    "Com base nos conceitos estudados até aqui no curso vamos criar um jogo clássico e simples: Pedra, Papel e Tesoura, para dois jogadores.\n",
    "\n",
    "Este estudo de caso é ideal para iniciantes, pois utiliza apenas os fundamentos ensinados: variáveis, entrada e saída, manipulação de strings para normalizar a entrada dos jogadores, e ainda estruturas condicionais (if, elif, else) com operadores lógicos para determinar o vencedor."
   ]
  },
  {
   "cell_type": "markdown",
   "id": "739b2837-4906-4d0d-918f-8e0bda7727f8",
   "metadata": {},
   "source": [
    "![DSA](game.jpeg)\n",
    "\n",
    "Pedra, Papel e Tesoura é um jogo de mão simples e popular, geralmente disputado entre duas pessoas. O objetivo é derrotar o oponente escolhendo um de três objetos, cada qual com uma vantagem sobre um objeto e uma desvantagem sobre o outro.\n",
    "\n",
    "As regras de vitória são as seguintes:\n",
    "\n",
    "- Pedra vence a Tesoura (quebrando-a).\n",
    "\n",
    "- Tesoura vence o Papel (cortando-o).\n",
    "\n",
    "- Papel vence a Pedra (cobrindo-a).\n",
    "\n",
    "Se ambos os jogadores escolherem o mesmo objeto, a rodada resulta em um empate.\n",
    "<!-- Trabalho Desenvolvido na Data Science Academy - www.datascienceacademy.com.br -->\n",
    "Por ser um jogo rápido e baseado principalmente na sorte, é frequentemente usado para tomar decisões triviais ou para decidir quem começa em outra atividade."
   ]
  },
  {
   "cell_type": "markdown",
   "id": "2e046875-fc96-4934-b0b6-a61d03663ce9",
   "metadata": {},
   "source": [
    "Agora é com você! Construa o pseudocódigo para o problema acima. A solução completa está logo abaixo."
   ]
  },
  {
   "cell_type": "raw",
   "id": "c257a30f-3099-464a-b5bb-9f65804dac1a",
   "metadata": {},
   "source": [
    "Início\n",
    "\n",
    "    Mostrar mensagem: \"Bem-vindo ao jogo Pedra, Papel e Tesoura!\"\n",
    "\n",
    "    Ler escolha do Jogador 1\n",
    "    Ler escolha do Jogador 2\n",
    "\n",
    "    Converter ambas as escolhas para letras minúsculas \n",
    "    (para evitar diferença entre \"Pedra\" e \"pedra\")\n",
    "\n",
    "    Se escolha1 == escolha2\n",
    "        Mostrar \"Empate!\"\n",
    "    Senão se escolha1 == \"pedra\" e escolha2 == \"tesoura\"\n",
    "        Mostrar \"Jogador 1 venceu! Pedra quebra Tesoura.\"\n",
    "    Senão se escolha1 == \"tesoura\" e escolha2 == \"papel\"\n",
    "        Mostrar \"Jogador 1 venceu! Tesoura corta Papel.\"\n",
    "    Senão se escolha1 == \"papel\" e escolha2 == \"pedra\"\n",
    "        Mostrar \"Jogador 1 venceu! Papel cobre Pedra.\"\n",
    "    Senão\n",
    "        Mostrar \"Jogador 2 venceu!\"\n",
    "\n",
    "Fim\n"
   ]
  },
  {
   "cell_type": "markdown",
   "id": "aef2ca65-1237-45aa-8c32-3098ebcf9b2d",
   "metadata": {},
   "source": [
    "**Vamos agora converter o pseudocódigo em código Python.**"
   ]
  },
  {
   "cell_type": "code",
   "execution_count": 2,
   "id": "cafcfb66-23d4-42c5-9cda-07e4e08fa71e",
   "metadata": {},
   "outputs": [
    {
     "name": "stdout",
     "output_type": "stream",
     "text": [
      "=== Jogo: Pedra, Papel e Tesoura (Melhor de 3) ===\n"
     ]
    },
    {
     "name": "stdin",
     "output_type": "stream",
     "text": [
      "\n",
      "Jogador 1 - Escolha Pedra, Papel ou Tesoura:  Pedra\n",
      "Jogador 2 - Escolha Pedra, Papel ou Tesoura:  Tesoura\n"
     ]
    },
    {
     "name": "stdout",
     "output_type": "stream",
     "text": [
      "\n",
      "Jogador 1 jogou: ✊ (Pedra)\n",
      "Jogador 2 jogou: ✌️ (Tesoura)\n",
      "\n",
      "🎉 Jogador 1 venceu esta rodada!\n",
      "Placar: Jogador 1 [1] x [0] Jogador 2\n"
     ]
    },
    {
     "name": "stdin",
     "output_type": "stream",
     "text": [
      "\n",
      "Jogador 1 - Escolha Pedra, Papel ou Tesoura:  pedra\n",
      "Jogador 2 - Escolha Pedra, Papel ou Tesoura:  papel\n"
     ]
    },
    {
     "name": "stdout",
     "output_type": "stream",
     "text": [
      "\n",
      "Jogador 1 jogou: ✊ (Pedra)\n",
      "Jogador 2 jogou: ✋ (Papel)\n",
      "\n",
      "💻 Jogador 2 venceu esta rodada!\n",
      "Placar: Jogador 1 [1] x [1] Jogador 2\n"
     ]
    },
    {
     "name": "stdin",
     "output_type": "stream",
     "text": [
      "\n",
      "Jogador 1 - Escolha Pedra, Papel ou Tesoura:  tesoura \n",
      "Jogador 2 - Escolha Pedra, Papel ou Tesoura:  pedra\n"
     ]
    },
    {
     "name": "stdout",
     "output_type": "stream",
     "text": [
      "\n",
      "Jogador 1 jogou: ✌️ (Tesoura)\n",
      "Jogador 2 jogou: ✊ (Pedra)\n",
      "\n",
      "💻 Jogador 2 venceu esta rodada!\n",
      "Placar: Jogador 1 [1] x [2] Jogador 2\n",
      "\n",
      "🏆 Jogador 2 é o grande campeão!\n"
     ]
    }
   ],
   "source": [
    "import random\n",
    "\n",
    "# Dicionário com as jogadas\n",
    "jogadas = {\n",
    "    \"pedra\": \"✊\",\n",
    "    \"papel\": \"✋\",\n",
    "    \"tesoura\": \"✌️\"\n",
    "}\n",
    "\n",
    "print(\"=== Jogo: Pedra, Papel e Tesoura (Melhor de 3) ===\")\n",
    "\n",
    "# Pontuação\n",
    "p1_pontos = 0\n",
    "p2_pontos = 0\n",
    "\n",
    "# Loop até alguém vencer 2 rodadas\n",
    "while p1_pontos < 2 and p2_pontos < 2:\n",
    "    # Entrada dos jogadores\n",
    "    jogador1 = input(\"\\nJogador 1 - Escolha Pedra, Papel ou Tesoura: \").strip().lower()\n",
    "    jogador2 = input(\"Jogador 2 - Escolha Pedra, Papel ou Tesoura: \").strip().lower()\n",
    "\n",
    "    # Mostrar as mãos\n",
    "    print(f\"\\nJogador 1 jogou: {jogadas.get(jogador1, '?')} ({jogador1.capitalize()})\")\n",
    "    print(f\"Jogador 2 jogou: {jogadas.get(jogador2, '?')} ({jogador2.capitalize()})\\n\")\n",
    "\n",
    "    # Regras do jogo\n",
    "    if jogador1 == jogador2:\n",
    "        print(\"🤝 Empate!\")\n",
    "    elif (jogador1 == \"pedra\" and jogador2 == \"tesoura\") or \\\n",
    "         (jogador1 == \"tesoura\" and jogador2 == \"papel\") or \\\n",
    "         (jogador1 == \"papel\" and jogador2 == \"pedra\"):\n",
    "        print(\"🎉 Jogador 1 venceu esta rodada!\")\n",
    "        p1_pontos += 1\n",
    "    else:\n",
    "        print(\"💻 Jogador 2 venceu esta rodada!\")\n",
    "        p2_pontos += 1\n",
    "\n",
    "    # Mostrar placar\n",
    "    print(f\"Placar: Jogador 1 [{p1_pontos}] x [{p2_pontos}] Jogador 2\")\n",
    "\n",
    "# Resultado final\n",
    "if p1_pontos > p2_pontos:\n",
    "    print(\"\\n🏆 Jogador 1 é o grande campeão!\")\n",
    "else:\n",
    "    print(\"\\n🏆 Jogador 2 é o grande campeão!\")\n",
    "\n"
   ]
  },
  {
   "cell_type": "markdown",
   "id": "e57c7e90-cd8b-459f-a00e-201da5d631ef",
   "metadata": {},
   "source": [
    "# Fim"
   ]
  }
 ],
 "metadata": {
  "kernelspec": {
   "display_name": "Python 3 (ipykernel)",
   "language": "python",
   "name": "python3"
  },
  "language_info": {
   "codemirror_mode": {
    "name": "ipython",
    "version": 3
   },
   "file_extension": ".py",
   "mimetype": "text/x-python",
   "name": "python",
   "nbconvert_exporter": "python",
   "pygments_lexer": "ipython3",
   "version": "3.13.5"
  }
 },
 "nbformat": 4,
 "nbformat_minor": 5
}
